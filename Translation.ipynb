{
  "nbformat": 4,
  "nbformat_minor": 0,
  "metadata": {
    "colab": {
      "provenance": []
    },
    "kernelspec": {
      "name": "python3",
      "display_name": "Python 3"
    },
    "language_info": {
      "name": "python"
    }
  },
  "cells": [
    {
      "cell_type": "markdown",
      "source": [
        "# Translation of English captions to Malayalam\n"
      ],
      "metadata": {
        "id": "-F7MrQA55k9d"
      }
    },
    {
      "cell_type": "markdown",
      "source": [
        "\n",
        "This notebook facilitates the translation of image captions from English to Malayalam using the Google Cloud Translation API. The core steps encompass:\n",
        "1. Configuring Google Cloud authentication.\n",
        "2. Reading and parsing English captions.\n",
        "3. Translating captions to Malayalam.\n",
        "4. Storing the translated captions in an output file.\n"
      ],
      "metadata": {
        "id": "t9ec3abGJ3aD"
      }
    },
    {
      "cell_type": "markdown",
      "source": [
        "## Library Imports\n",
        "Necessary libraries are imported for tasks such as file management, text processing, and accessing Google Cloud Translation services.\n"
      ],
      "metadata": {
        "id": "Tu1dZ5dyKfw-"
      }
    },
    {
      "cell_type": "code",
      "source": [
        "# Import necessary libraries\n",
        "import os\n",
        "from google.cloud import translate_v2 as gtranslate\n",
        "import re"
      ],
      "metadata": {
        "id": "aEjXvNen582H"
      },
      "execution_count": 1,
      "outputs": []
    },
    {
      "cell_type": "markdown",
      "source": [
        "## Utility Functions\n",
        "The following are utility functions designed for file reading, text cleaning, and text translation using the Google Cloud API.\n"
      ],
      "metadata": {
        "id": "OLmo3RlZKi5T"
      }
    },
    {
      "cell_type": "code",
      "source": [
        "\n",
        "def set_google_credentials(credentials_path):\n",
        "    \"\"\"\n",
        "    Set up the Google Cloud credentials for authentication.\n",
        "\n",
        "    Args:\n",
        "    - credentials_path (str): Path to the Google Cloud service account key.\n",
        "    \"\"\"\n",
        "    os.environ[\"GOOGLE_APPLICATION_CREDENTIALS\"] = credentials_path"
      ],
      "metadata": {
        "id": "ptsgJLcH550h"
      },
      "execution_count": null,
      "outputs": []
    },
    {
      "cell_type": "code",
      "source": [
        "\n",
        "def read_file_content(filepath):\n",
        "    \"\"\"\n",
        "    Read and return the content of a specified file.\n",
        "\n",
        "    Args:\n",
        "    - filepath (str): Path to the file.\n",
        "\n",
        "    Returns:\n",
        "    - str: Content of the file.\n",
        "    \"\"\"\n",
        "    with open(filepath, 'r') as f:\n",
        "        return f.read()"
      ],
      "metadata": {
        "id": "8OKOg2kx6K64"
      },
      "execution_count": null,
      "outputs": []
    },
    {
      "cell_type": "code",
      "source": [
        "def parse_image_descriptions(content):\n",
        "    \"\"\"Parse image descriptions from the given content.\n",
        "\n",
        "    Args:\n",
        "        content (str): String content containing image IDs and descriptions.\n",
        "\n",
        "    Returns:\n",
        "        dict: A dictionary with image IDs as keys and a list of descriptions as values.\n",
        "    \"\"\"\n",
        "\n",
        "    # Initialize an empty dictionary to hold image IDs and their corresponding descriptions.\n",
        "    descriptions_dict = {}\n",
        "\n",
        "    # Split content into lines and iterate through each line.\n",
        "    for line in content.strip().split('\\n'):\n",
        "\n",
        "        # Split each line by spaces to separate image ID and description.\n",
        "        tokens = line.split()\n",
        "\n",
        "        # Skip lines that don't have at least an image ID and a description.\n",
        "        if len(tokens) < 2:\n",
        "            continue\n",
        "\n",
        "        # Extract the image ID (removing any file extension) and the associated description.\n",
        "        img_id = tokens[0].split('.')[0]\n",
        "        img_description = ' '.join(tokens[1:])\n",
        "\n",
        "        # Add the description to the list of descriptions for the current image ID.\n",
        "        descriptions_dict.setdefault(img_id, []).append(img_description)\n",
        "\n",
        "    return descriptions_dict\n"
      ],
      "metadata": {
        "id": "UFZwwmkO6O2H"
      },
      "execution_count": null,
      "outputs": []
    },
    {
      "cell_type": "code",
      "source": [
        "\n",
        "def clean_text(text):\n",
        "    \"\"\"\n",
        "    Clean and preprocess the text.\n",
        "\n",
        "    Args:\n",
        "    - text (str): Text to clean.\n",
        "\n",
        "    Returns:\n",
        "    - str: Cleaned and preprocessed text.\n",
        "    \"\"\"\n",
        "    # Convert the text to lowercase for uniformity\n",
        "    text = text.lower()\n",
        "\n",
        "    # Replace all non-word characters (anything other than numbers and letters) with spaces\n",
        "    text = re.sub(r'\\W+', ' ', text)\n",
        "\n",
        "    # Replace multiple spaces with a single space\n",
        "    text = re.sub(r'\\s+', ' ', text)\n",
        "\n",
        "    # Remove leading and trailing spaces, if any\n",
        "    return text.strip()\n"
      ],
      "metadata": {
        "id": "YgEpXSkm6eWN"
      },
      "execution_count": null,
      "outputs": []
    },
    {
      "cell_type": "code",
      "source": [
        "\n",
        "def get_translation(text, language):\n",
        "    \"\"\"\n",
        "    Translate the given text into the specified language using the Google Cloud Translation API.\n",
        "\n",
        "    Args:\n",
        "    - text (str): Text to translate.\n",
        "    - language (str): Target language code (e.g., 'ml' for Malayalam).\n",
        "\n",
        "    Returns:\n",
        "    - str: Translated text. Returns None if an error occurs.\n",
        "    \"\"\"\n",
        "\n",
        "    # Create a translation client using the Google Cloud Translation API\n",
        "    client = gtranslate.Client()\n",
        "\n",
        "    try:\n",
        "        # Attempt to translate the provided text into the target language\n",
        "        result = client.translate(text, target_language=language)\n",
        "\n",
        "        # Return the translated text from the result\n",
        "        return result['translatedText']\n",
        "    except Exception as e:\n",
        "        # If an error occurs during translation, print the error message\n",
        "        print(f\"Translation Error: {str(e)}\")\n",
        "\n",
        "        # Return None to indicate that the translation failed\n",
        "        return None\n"
      ],
      "metadata": {
        "id": "27hBmGZe65wV"
      },
      "execution_count": null,
      "outputs": []
    },
    {
      "cell_type": "code",
      "source": [
        "\n",
        "\n",
        "def translate_all_descriptions(descriptions, target_lang):\n",
        "    \"\"\"\n",
        "    Translate all descriptions in the given dictionary to the target language.\n",
        "\n",
        "    Args:\n",
        "    - descriptions (dict): Dictionary of image descriptions.\n",
        "    - target_lang (str): Target language code (e.g., 'ml' for Malayalam).\n",
        "\n",
        "    Returns:\n",
        "    - dict: Dictionary with image IDs as keys and lists of translated descriptions as values.\n",
        "    \"\"\"\n",
        "\n",
        "    # Initialize an empty dictionary to store translated descriptions\n",
        "    translated_dict = {}\n",
        "\n",
        "    # Enumerate through the provided descriptions dictionary\n",
        "    for idx, (img_id, desc_list) in enumerate(descriptions.items()):\n",
        "\n",
        "        # Create a list to store translated descriptions for the current image\n",
        "        translated_list = []\n",
        "\n",
        "        # Loop through each description in desc_list\n",
        "        for desc in desc_list:\n",
        "\n",
        "            # Clean and translate the description\n",
        "            translated_desc = get_translation(clean_text(desc), target_lang)\n",
        "\n",
        "            # Append the translated description to the list if the translation is successful\n",
        "            if translated_desc:\n",
        "                translated_list.append(translated_desc)\n",
        "\n",
        "        # Store the translated descriptions in the translated_dict\n",
        "        translated_dict[img_id] = translated_list\n",
        "\n",
        "        # Save intermediate results every 200 translations to prevent data loss during long runs\n",
        "        if idx % 200 == 0:\n",
        "            write_to_file(translated_dict, f\"Flickr30k.{target_lang}.temp.{idx}.txt\")\n",
        "\n",
        "    # Return the dictionary with translated descriptions\n",
        "    return translated_dict\n"
      ],
      "metadata": {
        "id": "6CAglg_A69fC"
      },
      "execution_count": null,
      "outputs": []
    },
    {
      "cell_type": "code",
      "source": [
        "\n",
        "def write_to_file(descriptions, filepath):\n",
        "    \"\"\"\n",
        "    Write the given descriptions to a specified file.\n",
        "\n",
        "    Args:\n",
        "    - descriptions (dict): Dictionary of image descriptions.\n",
        "    - filepath (str): Path to the output file.\n",
        "    \"\"\"\n",
        "\n",
        "    # Construct a list of formatted strings containing the image ID, index, and description.\n",
        "    # For each image ID (key) and its list of descriptions (desc_list),\n",
        "    # enumerate through the descriptions to get both the description and its index.\n",
        "    lines = []\n",
        "    for key, desc_list in descriptions.items():\n",
        "        for idx, desc in enumerate(desc_list):\n",
        "            lines.append(f\"{key}.jpg#{idx} {desc}\")\n",
        "\n",
        "    # Open the specified file in write mode with UTF-8 encoding\n",
        "    with open(filepath, 'w', encoding=\"utf8\") as f:\n",
        "\n",
        "        # Join the lines with newline characters and write to the file\n",
        "        f.write('\\n'.join(lines))\n"
      ],
      "metadata": {
        "id": "36YuzsVb6-8W"
      },
      "execution_count": null,
      "outputs": []
    },
    {
      "cell_type": "markdown",
      "source": [
        "## Main Execution Function\n",
        "This function organizes the entire translation workflow by invoking the aforementioned utility functions in the appropriate sequence.\n"
      ],
      "metadata": {
        "id": "skSPTM_1Kqks"
      }
    },
    {
      "cell_type": "code",
      "source": [
        "\n",
        "def main(english_dataset_path, credentials_path, output_path, target_lang=\"ml\"):\n",
        "    \"\"\"\n",
        "    Main execution function to translate image descriptions.\n",
        "\n",
        "    Args:\n",
        "    - english_dataset_path (str): Path to the file containing English image descriptions.\n",
        "    - credentials_path (str): Path to the Google Cloud service account key.\n",
        "    - output_path (str): Path to the output file for translated descriptions.\n",
        "    - target_lang (str, optional): Target language code. Defaults to 'ml' (Malayalam).\n",
        "    \"\"\"\n",
        "    # Set up Google Cloud credentials\n",
        "    set_google_credentials(credentials_path)\n",
        "\n",
        "    # Read English descriptions\n",
        "    english_descriptions = read_file_content(english_dataset_path)\n",
        "\n",
        "    # Extract descriptions from file\n",
        "    descriptions = parse_image_descriptions(english_descriptions)\n",
        "\n",
        "    # Translate the english descriptions\n",
        "    translated_descriptions = translate_all_descriptions(descriptions, target_lang)\n",
        "\n",
        "    # Save the translated descriptions to the output file\n",
        "    write_to_file(translated_descriptions, output_path)\n"
      ],
      "metadata": {
        "id": "n4PYF4DP7Ekb"
      },
      "execution_count": null,
      "outputs": []
    },
    {
      "cell_type": "markdown",
      "source": [
        "## Execution\n",
        "Paths to datasets, Google Cloud credentials, and the desired output file location are specified below. Following this setup, the main function is called to initiate the translation process.\n"
      ],
      "metadata": {
        "id": "jOImK7ccKsmv"
      }
    },
    {
      "cell_type": "code",
      "source": [
        "# Setting up the paths to different files\n",
        "path_to_english_dataset = \"/Users/allumariababu/Documents/MSc_Project/Flickr30k_Dataset/30k_captions.txt\"\n",
        "\n",
        "path_to_google_credentials = \"/Users/allumariababu/Documents/MSc_Project/Google Credentials/servicekey.json\"\n",
        "\n",
        "path_to_output_file = \"/Users/allumariababu/Documents/MSc_Project/Flickr30k_Dataset/Malayalam_Dataset/Flickr30k.malayalam.txt\"\n"
      ],
      "metadata": {
        "id": "CgIETMqb7e6R"
      },
      "execution_count": null,
      "outputs": []
    },
    {
      "cell_type": "code",
      "source": [
        "\n",
        "# Calling the main function to translate English captions to Malayalam\n",
        "main(\"path_to_english_dataset\", \"path_to_google_credentials\", \"path_to_output_file\")"
      ],
      "metadata": {
        "id": "e6JonHHe7Ert"
      },
      "execution_count": null,
      "outputs": []
    }
  ]
}