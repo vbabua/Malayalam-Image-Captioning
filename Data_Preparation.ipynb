{
  "nbformat": 4,
  "nbformat_minor": 0,
  "metadata": {
    "colab": {
      "provenance": []
    },
    "kernelspec": {
      "name": "python3",
      "display_name": "Python 3"
    },
    "language_info": {
      "name": "python"
    }
  },
  "cells": [
    {
      "cell_type": "markdown",
      "source": [
        "# Image Captioning: Data Preparation"
      ],
      "metadata": {
        "id": "6K9ALYtRMf5N"
      }
    },
    {
      "cell_type": "markdown",
      "source": [
        "\n",
        "This notebook focuses on the initial phase of the image captioning project: preparing the dataset. The primary tasks include copying images into respective train, validation, and test directories, and processing image captions for the same.\n"
      ],
      "metadata": {
        "id": "baMAm8ziMf79"
      }
    },
    {
      "cell_type": "markdown",
      "source": [
        "## Required Libraries\n",
        "\n",
        "Importing necessary libraries for file handling, data manipulation, and other utility tasks.\n"
      ],
      "metadata": {
        "id": "_GGxc8YxMzy2"
      }
    },
    {
      "cell_type": "code",
      "source": [
        "import os\n",
        "import shutil\n",
        "import json"
      ],
      "metadata": {
        "id": "4aO_NZjCMvs_"
      },
      "execution_count": null,
      "outputs": []
    },
    {
      "cell_type": "markdown",
      "source": [
        "## Directory Structure and Constants\n",
        "\n",
        "Setting up paths to various datasets and defining the main directories for train, test, and validation data.\n"
      ],
      "metadata": {
        "id": "prIg8lThM33c"
      }
    },
    {
      "cell_type": "code",
      "source": [
        "# Constants\n",
        "ROOT_DIR = '/content/drive/MyDrive/Msc Project/Flicker8k_Dataset'\n",
        "TRAIN_TXT = '/content/drive/MyDrive/Msc Project/Dummy Dataset/TrainImages.txt'\n",
        "VAL_TXT = '/content/drive/MyDrive/Msc Project/Dummy Dataset/DevImages.txt'\n",
        "TEST_TXT = '/content/drive/MyDrive/Msc Project/Dummy Dataset/TestImages.txt'\n",
        "NEW_DIR = '/content/drive/MyDrive/Msc Project/Dataset'\n",
        "CAPTIONS_TXT = '/content/drive/MyDrive/Msc Project/Dummy Dataset/Captions.txt'\n"
      ],
      "metadata": {
        "id": "DFLObFhyM8Br"
      },
      "execution_count": null,
      "outputs": []
    },
    {
      "cell_type": "markdown",
      "source": [
        "## Utility Functions\n",
        "\n",
        "### Copying Files\n",
        "\n",
        "The function below is responsible for copying image files from a source directory to a target directory based on filenames provided in a `.txt` file.\n"
      ],
      "metadata": {
        "id": "fDdUaJixM-ax"
      }
    },
    {
      "cell_type": "code",
      "source": [
        "def setup_directories():\n",
        "    \"\"\"\n",
        "    Set up directories for train, validation, and test data.\n",
        "\n",
        "    Returns:\n",
        "    - tuple: Paths to the train, validation, and test directories.\n",
        "    \"\"\"\n",
        "\n",
        "    # Define the path for the training directory using the global NEW_DIR constant\n",
        "    train_dir = os.path.join(NEW_DIR, 'train')\n",
        "\n",
        "    # Define the path for the validation directory using the global NEW_DIR constant\n",
        "    val_dir = os.path.join(NEW_DIR, 'validation')\n",
        "\n",
        "    # Define the path for the test directory using the global NEW_DIR constant\n",
        "    test_dir = os.path.join(NEW_DIR, 'test')\n",
        "\n",
        "    # Create the training directory, if it doesn't already exist\n",
        "    os.makedirs(train_dir, exist_ok=True)\n",
        "\n",
        "    # Create the validation directory, if it doesn't already exist\n",
        "    os.makedirs(val_dir, exist_ok=True)\n",
        "\n",
        "    # Create the test directory, if it doesn't already exist\n",
        "    os.makedirs(test_dir, exist_ok=True)\n",
        "\n",
        "    # Return the paths to the train, validation, and test directories\n",
        "    return train_dir, val_dir, test_dir\n"
      ],
      "metadata": {
        "id": "ecVmrTOeNp7P"
      },
      "execution_count": null,
      "outputs": []
    },
    {
      "cell_type": "code",
      "source": [
        "def copy_files(txt_path, target_dir):\n",
        "    \"\"\"\n",
        "    Copy images specified in a txt file to a target directory.\n",
        "\n",
        "    Args:\n",
        "    - txt_path (str): Path to the .txt file containing image filenames.\n",
        "    - target_dir (str): Path to the target directory.\n",
        "    \"\"\"\n",
        "\n",
        "    # Open the .txt file and extract all image filenames into a list\n",
        "    with open(txt_path, 'r') as f:\n",
        "        image_names = [line.strip() for line in f.readlines()]\n",
        "\n",
        "    # Iterate over each image filename\n",
        "    for image_name in image_names:\n",
        "\n",
        "        # Construct the full source path for the image\n",
        "        source = os.path.join(ROOT_DIR, image_name)\n",
        "\n",
        "        # Construct the full target path where the image should be copied\n",
        "        target = os.path.join(target_dir, image_name)\n",
        "\n",
        "        # Check if the source image exists\n",
        "        if os.path.exists(source):\n",
        "\n",
        "            # Copy the image from source to target directory\n",
        "            shutil.copy(source, target)\n",
        "        else:\n",
        "\n",
        "            # Print a warning message if the source image does not exist\n",
        "            print(f\"Warning: {source} does not exist!\")\n"
      ],
      "metadata": {
        "id": "YdMBIr1bNq4m"
      },
      "execution_count": null,
      "outputs": []
    },
    {
      "cell_type": "code",
      "source": [
        "def load_captions(file_path):\n",
        "    \"\"\"\n",
        "    Load image captions from a file.\n",
        "\n",
        "    Args:\n",
        "    - file_path (str): Path to the file containing captions.\n",
        "\n",
        "    Returns:\n",
        "    - dict: Dictionary with image IDs as keys and lists of captions as values.\n",
        "    \"\"\"\n",
        "\n",
        "    # Initialize an empty dictionary to store captions for each image\n",
        "    image_captions = {}\n",
        "\n",
        "    # Open the specified file in read mode with UTF-8 encoding\n",
        "    with open(file_path, 'r', encoding='utf-8') as f:\n",
        "\n",
        "        # Read all lines from the file\n",
        "        lines = f.readlines()\n",
        "\n",
        "    # Iterate over each line from the file\n",
        "    for line in lines:\n",
        "\n",
        "        # Split the line on tab character to separate image ID and caption\n",
        "        image_id_caption = line.strip().split('\\t')\n",
        "\n",
        "        # Extract the image ID (excluding any #index) and the associated caption\n",
        "        image_id = image_id_caption[0].split('#')[0]\n",
        "        caption = image_id_caption[1]\n",
        "\n",
        "        # If the image ID is not already in the dictionary, initialize an empty list\n",
        "        if image_id not in image_captions:\n",
        "            image_captions[image_id] = []\n",
        "\n",
        "        # Append the caption to the list of captions for the current image ID\n",
        "        image_captions[image_id].append(caption)\n",
        "\n",
        "    # Return the dictionary containing image IDs and their associated captions\n",
        "    return image_captions\n"
      ],
      "metadata": {
        "id": "rPHDDyhZNvrd"
      },
      "execution_count": null,
      "outputs": []
    },
    {
      "cell_type": "code",
      "source": [
        "def load_image_ids(file_path):\n",
        "    \"\"\"\n",
        "    Load image IDs from a specified file.\n",
        "\n",
        "    Args:\n",
        "    - file_path (str): Path to the file containing image IDs.\n",
        "\n",
        "    Returns:\n",
        "    - list: List of image IDs.\n",
        "    \"\"\"\n",
        "\n",
        "    # Open the specified file in read mode with UTF-8 encoding\n",
        "    with open(file_path, 'r', encoding='utf-8') as f:\n",
        "\n",
        "        # Read all lines from the file and strip any leading or trailing whitespace\n",
        "        image_ids = [line.strip() for line in f.readlines()]\n",
        "\n",
        "    # Return the list of image IDs\n",
        "    return image_ids\n"
      ],
      "metadata": {
        "id": "P8Vu871EO2fk"
      },
      "execution_count": null,
      "outputs": []
    },
    {
      "cell_type": "code",
      "source": [
        "def create_caption_list(image_captions, image_ids):\n",
        "    \"\"\"\n",
        "    Create a list of captions with associated image IDs in a structured format.\n",
        "\n",
        "    Args:\n",
        "    - image_captions (dict): Dictionary with image IDs as keys and lists of captions as values.\n",
        "    - image_ids (list): List of image IDs for which to extract captions.\n",
        "\n",
        "    Returns:\n",
        "    - list: List of dictionaries, each containing an image ID (\"file_name\") and a caption (\"text\").\n",
        "    \"\"\"\n",
        "\n",
        "    # Initialize an empty list to store structured captions\n",
        "    structured_captions = []\n",
        "\n",
        "    # Iterate over the provided list of image IDs\n",
        "    for image_id in image_ids:\n",
        "\n",
        "        # For each image ID, iterate over its associated captions in the image_captions dictionary\n",
        "        for caption in image_captions.get(image_id, []):\n",
        "\n",
        "            # Append a dictionary with the image ID and caption to the structured_captions list\n",
        "            structured_captions.append({\"file_name\": image_id, \"text\": caption})\n",
        "\n",
        "    # Return the list of structured captions\n",
        "    return structured_captions\n"
      ],
      "metadata": {
        "id": "Ze_RrXKpPEp8"
      },
      "execution_count": null,
      "outputs": []
    },
    {
      "cell_type": "markdown",
      "source": [
        "## Data Organization\n",
        "\n",
        "With the utility functions defined, the next step is to organize images into their respective directories (train, validation, test) and process the image captions.\n"
      ],
      "metadata": {
        "id": "eJtUyHznNOv8"
      }
    },
    {
      "cell_type": "code",
      "source": [
        "def main():\n",
        "    \"\"\"\n",
        "    Main execution function to set up directories, copy images, and save captions to jsonl files.\n",
        "    \"\"\"\n",
        "    train_dir, val_dir, test_dir = setup_directories()\n",
        "\n",
        "    copy_files(TRAIN_TXT, train_dir)\n",
        "    copy_files(VAL_TXT, val_dir)\n",
        "    copy_files(TEST_TXT, test_dir)\n",
        "\n",
        "    # Load captions and image IDs\n",
        "    image_captions = load_captions(CAPTIONS_TXT)\n",
        "    train_image_ids = load_image_ids(TRAIN_TXT)\n",
        "    dev_image_ids = load_image_ids(VAL_TXT)\n",
        "    test_image_ids = load_image_ids(TEST_TXT)\n",
        "\n",
        "    # Create lists of captions\n",
        "    train_captions = create_caption_list(image_captions, train_image_ids)\n",
        "    dev_captions = create_caption_list(image_captions, dev_image_ids)\n",
        "    test_captions = create_caption_list(image_captions, test_image_ids)\n",
        "\n",
        "    # Save captions to separate jsonl files\n",
        "    for set_name, captions_set in zip([\"train\", \"validation\", \"test\"], [train_captions, dev_captions, test_captions]):\n",
        "        output_path = os.path.join(NEW_DIR, set_name, \"metadata.jsonl\")\n",
        "        with open(output_path, 'w') as f:\n",
        "            for item in captions_set:\n",
        "                f.write(json.dumps(item) + \"\\n\")\n",
        "\n"
      ],
      "metadata": {
        "id": "mEiRORl_OnOv"
      },
      "execution_count": null,
      "outputs": []
    },
    {
      "cell_type": "code",
      "source": [
        "# If this script is the main module, execute the main function\n",
        "if __name__ == \"__main__\":\n",
        "    main()"
      ],
      "metadata": {
        "id": "NM3RIZuGOuai"
      },
      "execution_count": null,
      "outputs": []
    },
    {
      "cell_type": "markdown",
      "source": [
        "## Summary\n",
        "\n",
        "The images have been organized into their respective directories, and the captions have been processed and saved. The dataset is now ready for the next phase, which involves model training and evaluation.\n"
      ],
      "metadata": {
        "id": "6VYX2_GRNUIE"
      }
    },
    {
      "cell_type": "code",
      "source": [],
      "metadata": {
        "id": "wwt3WuDXNIVz"
      },
      "execution_count": null,
      "outputs": []
    },
    {
      "cell_type": "code",
      "source": [],
      "metadata": {
        "id": "LXvjDlBANKwB"
      },
      "execution_count": null,
      "outputs": []
    }
  ]
}